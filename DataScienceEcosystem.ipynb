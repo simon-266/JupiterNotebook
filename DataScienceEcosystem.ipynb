{
 "cells": [
  {
   "cell_type": "markdown",
   "id": "f2f5d2ec-e0c4-4b9d-aec5-6ad2e7f2f992",
   "metadata": {},
   "source": [
    "# Data Scienece Tools and Ecosystem"
   ]
  },
  {
   "cell_type": "markdown",
   "id": "7533d375-b3b6-411c-9cfb-578d3b9aa65d",
   "metadata": {},
   "source": [
    "In this notebook, Data Science Tools and Ecosystem are summarized."
   ]
  },
  {
   "cell_type": "markdown",
   "id": "89c743af-8428-4b76-bd83-9d1777bfeedb",
   "metadata": {},
   "source": [
    "Some of the popular languages that Data Scientists use are:\n",
    "1. Python\n",
    "2. R\n",
    "3. C++\n",
    "4. Scala\n",
    "5. Java"
   ]
  },
  {
   "cell_type": "markdown",
   "id": "4d9cbbe9-c77f-4e36-b846-e4fbc9cbd169",
   "metadata": {},
   "source": [
    "Some of the commonly used libraries used by Data Scientists include:\n",
    "1. Pandas\n",
    "2. NumPy\n",
    "3. TensorFlow"
   ]
  },
  {
   "cell_type": "markdown",
   "id": "64dd4d82-28ed-4c41-a59c-10d5321e1f9c",
   "metadata": {},
   "source": [
    "|Data Science Tools|\n",
    "|---|\n",
    "|Jupyterlab|\n",
    "|Visual Studio Code|\n",
    "|R-Studio|"
   ]
  },
  {
   "cell_type": "markdown",
   "id": "8b2f04ee-b6c6-412c-99ef-fa865ebbe466",
   "metadata": {},
   "source": [
    "### Below are a few examples of evaluating arithmetic expressions in Python."
   ]
  },
  {
   "cell_type": "code",
   "execution_count": 2,
   "id": "7ae41bfc-1dec-496e-a749-0e1c6b266a75",
   "metadata": {},
   "outputs": [
    {
     "data": {
      "text/plain": [
       "17"
      ]
     },
     "execution_count": 2,
     "metadata": {},
     "output_type": "execute_result"
    }
   ],
   "source": [
    "(3*4)+5\n",
    "#This a simple arithmetic expression to multiply then add integers"
   ]
  },
  {
   "cell_type": "code",
   "execution_count": 5,
   "id": "6e23bb37-a036-47e0-9593-295d2e7535d9",
   "metadata": {},
   "outputs": [
    {
     "name": "stdout",
     "output_type": "stream",
     "text": [
      "3.3333333333333335 Hours\n"
     ]
    }
   ],
   "source": [
    "n = 200/60\n",
    "print(str(n) + \" Hours\")\n",
    "#This will convert 200 minutes to hours by dividing by 60"
   ]
  },
  {
   "cell_type": "markdown",
   "id": "7c8afabb-7852-4f15-afa4-c0a4a5bc952a",
   "metadata": {},
   "source": [
    "**Objectives:**\n",
    "- List popular languages for Data Science\n",
    "- List Data Science Tools\n",
    "- Arithemtic expressions"
   ]
  },
  {
   "cell_type": "markdown",
   "id": "02094a96-7787-42d4-8263-f9b2bd24a886",
   "metadata": {},
   "source": [
    "## Author\n",
    "Simon Altschäffl"
   ]
  }
 ],
 "metadata": {
  "kernelspec": {
   "display_name": "Python 3 (ipykernel)",
   "language": "python",
   "name": "python3"
  },
  "language_info": {
   "codemirror_mode": {
    "name": "ipython",
    "version": 3
   },
   "file_extension": ".py",
   "mimetype": "text/x-python",
   "name": "python",
   "nbconvert_exporter": "python",
   "pygments_lexer": "ipython3",
   "version": "3.12.3"
  }
 },
 "nbformat": 4,
 "nbformat_minor": 5
}
